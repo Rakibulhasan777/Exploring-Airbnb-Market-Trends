{
 "cells": [
  {
   "cell_type": "code",
   "execution_count": 3,
   "id": "13ae96b0-d9c5-4bac-9bc8-a4ee47f2ac22",
   "metadata": {},
   "outputs": [],
   "source": [
    "# Import necessary packages\n",
    "import pandas as pd\n",
    "import numpy as np"
   ]
  },
  {
   "cell_type": "code",
   "execution_count": 5,
   "id": "bd2c47a6-cf9e-419e-828a-318757dcf7de",
   "metadata": {},
   "outputs": [],
   "source": [
    "# Import CSV for prices\n",
    "airbnb_price = pd.read_csv('airbnb_price.csv')"
   ]
  },
  {
   "cell_type": "code",
   "execution_count": 7,
   "id": "cdff4319-4a76-4604-8bc9-780bde6515eb",
   "metadata": {},
   "outputs": [],
   "source": [
    "# Import Excel file for room types\n",
    "airbnb_room_type = pd.read_excel('airbnb_room_type.xlsx')"
   ]
  },
  {
   "cell_type": "code",
   "execution_count": 9,
   "id": "8c49402f-d958-4ed7-92d3-cc634d6fdbd8",
   "metadata": {},
   "outputs": [],
   "source": [
    "# Import TSV for review dates\n",
    "airbnb_last_review = pd.read_csv('airbnb_last_review.tsv', sep='\\t')"
   ]
  },
  {
   "cell_type": "code",
   "execution_count": 10,
   "id": "0fbde6b1-9fd4-4f0f-a9b4-9f9d33b2a7dd",
   "metadata": {},
   "outputs": [],
   "source": [
    "# Join the three data frames together into one\n",
    "listings = pd.merge(airbnb_price, airbnb_room_type, on='listing_id')\n",
    "listings = pd.merge(listings, airbnb_last_review, on='listing_id')"
   ]
  },
  {
   "cell_type": "code",
   "execution_count": 11,
   "id": "ef92faf2-4d23-45b3-acdb-37796129ea04",
   "metadata": {},
   "outputs": [],
   "source": [
    "# What are the dates of the earliest and most recent reviews?\n",
    "# To use a function like max()/min() on last_review date column, it needs to be converted to datetime type\n",
    "listings['last_review_date'] = pd.to_datetime(listings['last_review'], format='%B %d %Y')\n",
    "first_reviewed = listings['last_review_date'].min()\n",
    "last_reviewed = listings['last_review_date'].max()"
   ]
  },
  {
   "cell_type": "code",
   "execution_count": 12,
   "id": "64af67ca-0a89-4454-8a0b-7260782e4d47",
   "metadata": {},
   "outputs": [],
   "source": [
    "# How many of the listings are private rooms?\n",
    "# Since there are differences in capitalization, make capitalization consistent\n",
    "listings['room_type'] = listings['room_type'].str.lower()\n",
    "private_room_count = listings[listings['room_type'] == 'private room'].shape[0]"
   ]
  },
  {
   "cell_type": "code",
   "execution_count": 13,
   "id": "c55274dd-2b4f-4565-88b9-f9b21e2e06f9",
   "metadata": {},
   "outputs": [],
   "source": [
    "# What is the average listing price?\n",
    "# To convert price to numeric, remove \" dollars\" from each value\n",
    "listings['price_clean'] = listings['price'].str.replace(' dollars', '').astype(float)\n",
    "avg_price = listings['price_clean'].mean()"
   ]
  },
  {
   "cell_type": "code",
   "execution_count": 14,
   "id": "39445a6e-75fb-4f1e-9b54-e4a50b417507",
   "metadata": {},
   "outputs": [
    {
     "name": "stdout",
     "output_type": "stream",
     "text": [
      "  first_reviewed last_reviewed  nb_private_rooms  avg_price\n",
      "0     2019-01-01    2019-07-09             11356     141.78\n"
     ]
    }
   ],
   "source": [
    "review_dates = pd.DataFrame({\n",
    "    'first_reviewed': [first_reviewed],\n",
    "    'last_reviewed': [last_reviewed],\n",
    "    'nb_private_rooms': [private_room_count],\n",
    "    'avg_price': [round(avg_price, 2)]\n",
    "})\n",
    "\n",
    "print(review_dates)"
   ]
  }
 ],
 "metadata": {
  "kernelspec": {
   "display_name": "Python 3 (ipykernel)",
   "language": "python",
   "name": "python3"
  },
  "language_info": {
   "codemirror_mode": {
    "name": "ipython",
    "version": 3
   },
   "file_extension": ".py",
   "mimetype": "text/x-python",
   "name": "python",
   "nbconvert_exporter": "python",
   "pygments_lexer": "ipython3",
   "version": "3.11.7"
  }
 },
 "nbformat": 4,
 "nbformat_minor": 5
}
